{
 "cells": [
  {
   "cell_type": "code",
   "execution_count": 1,
   "metadata": {
    "vscode": {
     "languageId": "r"
    }
   },
   "outputs": [
    {
     "name": "stderr",
     "output_type": "stream",
     "text": [
      "Installing package into ‘/home/lbluz/R/x86_64-pc-linux-gnu-library/4.2’\n",
      "(as ‘lib’ is unspecified)\n",
      "\n"
     ]
    }
   ],
   "source": [
    "# Install rTIMESAT-LINUX from local folder\n",
    "\n",
    "local_folder <- \"~/git/rTIMESAT-LINUX\"\n",
    "install.packages(local_folder, repos = NULL, type = \"source\")"
   ]
  },
  {
   "cell_type": "code",
   "execution_count": 3,
   "metadata": {
    "vscode": {
     "languageId": "r"
    }
   },
   "outputs": [],
   "source": [
    "# Import rTIMESAT\n",
    "library(rTIMESAT)"
   ]
  },
  {
   "cell_type": "code",
   "execution_count": 4,
   "metadata": {
    "vscode": {
     "languageId": "r"
    }
   },
   "outputs": [],
   "source": [
    "## 1. TIMESAT options\n",
    "# Note the length of `FUN` should be one.\n",
    "# see details of every parameter in `write_setting`.\n",
    "nptperyear = 23\n",
    "options <- list(\n",
    "    ylu                 = c(0, 9999),     # Valid data range (lower upper)\n",
    "    qc_1                = c(0, 0, 1),     # Quality range 1 and weight\n",
    "    qc_2                = c(1, 1, 0.5),   # Quality range 2 and weight\n",
    "    qc_3                = c(2, 3, 0.2),   # Quality range 3 and weight\n",
    "    A                   = 0.1,            # Amplitude cutoff value\n",
    "    output_type         = c(1, 1, 0),     # Output files (1/0 1/0 1/0), 1: seasonality data; 2: smoothed time-series; 3: original time-series\n",
    "    seasonpar           = 1.0,            # Seasonality parameter (0-1)\n",
    "    iters               = 2,              # No. of envelope iterations (3/2/1)\n",
    "    FUN                 = 2,              # Fitting method (1/2/3): (SG/AG/DL)\n",
    "    half_win            = 7,              # half Window size for Sav-Gol.\n",
    "    meth_pheno          = 1,              # (1: seasonal amplitude, 2: absolute value, 3: relative amplitude, 4: STL trend)\n",
    "    trs                 = c(0.5, 0.5)     # Season start / end values\n",
    ")"
   ]
  },
  {
   "cell_type": "code",
   "execution_count": 5,
   "metadata": {
    "vscode": {
     "languageId": "r"
    }
   },
   "outputs": [
    {
     "name": "stdout",
     "output_type": "stream",
     "text": [
      "List of 2\n",
      " $ fit  :'data.frame':\t161 obs. of  2 variables:\n",
      "  ..$ t : int [1:161] 1 2 3 4 5 6 7 8 9 10 ...\n",
      "  ..$ z1: num [1:161] 0.371 0.362 0.359 0.359 0.362 ...\n",
      " $ pheno:Classes ‘data.table’ and 'data.frame':\t6 obs. of  16 variables:\n",
      "  ..$ row        : num [1:6] 1 1 1 1 1 1\n",
      "  ..$ col        : num [1:6] 1 1 1 1 1 1\n",
      "  ..$ season     : num [1:6] 1 2 3 4 5 6\n",
      "  ..$ time_start : num [1:6] 7.18 29.79 53.33 75.63 98.19 ...\n",
      "  ..$ time_end   : num [1:6] 18.4 43.4 61.9 88.7 102.7 ...\n",
      "  ..$ time_peak  : num [1:6] 12.8 35.8 57.6 82 100.2 ...\n",
      "  ..$ len        : num [1:6] 11.23 13.57 8.6 13.03 4.47 ...\n",
      "  ..$ val_start  : num [1:6] 0.392 0.462 0.458 0.444 0.452 ...\n",
      "  ..$ val_end    : num [1:6] 0.413 0.459 0.466 0.435 0.458 ...\n",
      "  ..$ val_peak   : num [1:6] 0.425 0.522 0.52 0.476 0.511 ...\n",
      "  ..$ val_base   : num [1:6] 0.38 0.399 0.404 0.403 0.4 ...\n",
      "  ..$ ampl       : num [1:6] 0.0453 0.1236 0.1157 0.0734 0.1111 ...\n",
      "  ..$ der_l      : num [1:6] 0.018 0.0305 0.0322 0.0133 0.0492 ...\n",
      "  ..$ der_r      : num [1:6] 0.00617 0.01563 0.02708 0.01506 0.02284 ...\n",
      "  ..$ integ_large: num [1:6] 5.44 7.96 4.98 6.94 2.88 ...\n",
      "  ..$ integ_small: num [1:6] 0.499 1.583 0.942 0.898 0.484 ...\n",
      "  ..- attr(*, \".internal.selfref\")=<externalptr> \n",
      "NULL\n"
     ]
    }
   ],
   "source": [
    "\n",
    "# library(phenofit)\n",
    "\n",
    "data(\"MOD13A1\")\n",
    "sitename <- \"US-KS2\"\n",
    "# sitename <- \"CA-NS6\"\n",
    "\n",
    "d <- subset(MOD13A1$dt, date >= as.Date(\"2004-01-01\") & date <= as.Date(\"2010-12-31\") & site == sitename)\n",
    "r <- TSF_main(y = d$EVI/1e4, qc = d$SummaryQA, nptperyear, \n",
    "              jobname = sitename, options, cache = FALSE)\n",
    "print(str(r))\n",
    "#> List of 2\n",
    "#>  $ fit  :'data.frame':   161 obs. of  2 variables:\n",
    "#>   ..$ t : int [1:161] 1 2 3 4 5 6 7 8 9 10 ...\n",
    "#>   ..$ v1: num [1:161] 0.371 0.362 0.359 0.359 0.362 ...\n",
    "#>  $ pheno:'data.frame':   6 obs. of  16 variables:\n",
    "#>   ..$ row        : num [1:6] 1 1 1 1 1 1\n",
    "#>   ..$ col        : num [1:6] 1 1 1 1 1 1\n",
    "#>   ..$ season     : num [1:6] 1 2 3 4 5 6\n",
    "#>   ..$ time_start : num [1:6] 7.18 29.79 53.33 75.63 98.19 ...\n",
    "#>   ..$ time_end   : num [1:6] 18.4 43.4 61.9 88.7 102.7 ...\n",
    "#>   ..$ time_peak  : num [1:6] 12.8 35.8 57.6 82 100.2 ...\n",
    "#>   ..$ len        : num [1:6] 11.23 13.57 8.6 13.03 4.47 ...\n",
    "#>   ..$ val_start  : num [1:6] 0.392 0.462 0.458 0.444 0.452 ...\n",
    "#>   ..$ val_end    : num [1:6] 0.413 0.459 0.466 0.435 0.458 ...\n",
    "#>   ..$ val_peak   : num [1:6] 0.425 0.522 0.52 0.476 0.511 ...\n",
    "#>   ..$ val_base   : num [1:6] 0.38 0.399 0.404 0.403 0.4 ...\n",
    "#>   ..$ ampl       : num [1:6] 0.0453 0.1236 0.1157 0.0734 0.1111 ...\n",
    "#>   ..$ der_l      : num [1:6] 0.018 0.0305 0.0322 0.0133 0.0492 ...\n",
    "#>   ..$ der_r      : num [1:6] 0.00617 0.01563 0.02708 0.01506 0.02284 ...\n",
    "#>   ..$ integ_large: num [1:6] 5.44 7.96 4.98 6.94 2.88 ...\n",
    "#>   ..$ integ_small: num [1:6] 0.499 1.583 0.942 0.898 0.484 ...\n",
    "#> NULL"
   ]
  }
 ],
 "metadata": {
  "kernelspec": {
   "display_name": "R",
   "language": "R",
   "name": "ir"
  },
  "language_info": {
   "codemirror_mode": "r",
   "file_extension": ".r",
   "mimetype": "text/x-r-source",
   "name": "R",
   "pygments_lexer": "r",
   "version": "4.2.2"
  },
  "orig_nbformat": 4,
  "vscode": {
   "interpreter": {
    "hash": "916dbcbb3f70747c44a77c7bcd40155683ae19c65e1c03b4aa3499c5328201f1"
   }
  }
 },
 "nbformat": 4,
 "nbformat_minor": 2
}
